{
 "cells": [
  {
   "cell_type": "code",
   "execution_count": null,
   "metadata": {},
   "outputs": [],
   "source": [
    "%load_ext autoreload\n",
    "%autoreload 2"
   ]
  },
  {
   "cell_type": "code",
   "execution_count": null,
   "metadata": {},
   "outputs": [],
   "source": [
    "import numpy as np\n",
    "import SRW_v044 as SRW\n",
    "from scipy.sparse import csr_matrix, csc_matrix, issparse\n",
    "import functools"
   ]
  },
  {
   "cell_type": "code",
   "execution_count": null,
   "metadata": {},
   "outputs": [],
   "source": [
    "nsamples = 100\n",
    "nnodes = 1000\n",
    "edge_freq = 0.004\n",
    "cliq_edge_freq = 0.114\n",
    "hi_mut_freq = 0.5\n",
    "hi_node = nnodes*3/4\n",
    "group_labels = ['Subtype 1']*(nsamples//2) + ['Subtype 2']*(nsamples//2)\n",
    "feature_names = ['Subnetwork 1', 'Subnetwork 2', 'High mut source', 'High mut target', \n",
    "                 'Random 1', 'Random 2', \n",
    "                 'Self loop', 'Intercept']\n",
    "node_names = ['{}'.format(i) for i in range(1,nnodes+1)]\n",
    "sample_names = ['{}'.format(i) for i in range(1,nsamples+1)]\n",
    "\n",
    "rand_mut_freq = 0.015"
   ]
  },
  {
   "cell_type": "code",
   "execution_count": null,
   "metadata": {},
   "outputs": [],
   "source": [
    "rst_prob = 0.3\n",
    "lam = 1e-1\n",
    "WMW_b = 2e-4"
   ]
  },
  {
   "cell_type": "code",
   "execution_count": null,
   "metadata": {},
   "outputs": [],
   "source": [
    "def accuracy(activation_func, n_iter = 10):\n",
    "    accuracy_history = []\n",
    "    accuracy_val_history = []\n",
    "    while n_iter > 0:\n",
    "        degrees = [0]*nnodes\n",
    "        edges = []\n",
    "        features = [] #(11) cliq1, cliq2, hi_mut_source, hi_mut_target, rand1, rand2, rand3, rand4, rand5, self_loop, intercept\n",
    "        for i in range(nnodes-1):\n",
    "            for j in range(i+1,nnodes):\n",
    "                if ((i<100 and j<100) and np.random.random()<cliq_edge_freq) or np.random.random()<edge_freq:\n",
    "                    edges.append([i,j])\n",
    "                    edges.append([j,i])\n",
    "                    features.append([0,0,0,0,np.random.random(),np.random.random(),0,1])\n",
    "                    features.append([0,0,0,0,np.random.random(),np.random.random(),0,1])\n",
    "                    if (i<50 and j<50):\n",
    "                        features[-2][0] = 1\n",
    "                        features[-1][0] = 1\n",
    "                    if (i>=50 and i<100 and j>=50 and j<100):\n",
    "                        features[-2][1] = 1\n",
    "                        features[-1][1] = 1\n",
    "                    if i == nnodes-1:\n",
    "                        features[-2][2] = 1\n",
    "                        features[-1][3] = 1\n",
    "                    if j == nnodes-1:\n",
    "                        features[-2][3] = 1\n",
    "                        features[-1][2] = 1\n",
    "                    degrees[i] += 1\n",
    "                    degrees[j] += 1\n",
    "\n",
    "        for i in range(nnodes):\n",
    "            edges.append([i,i])\n",
    "            features.append([0,0,0,0,np.random.random(),np.random.random(),1,1])\n",
    "\n",
    "        P_init = []\n",
    "        for p in range(nsamples):\n",
    "            p_init = []\n",
    "            for i in range(nnodes):\n",
    "                freq=0\n",
    "                if p == i:\n",
    "                    freq = 1\n",
    "                elif i == hi_node:\n",
    "                    freq = hi_mut_freq\n",
    "                elif i<100:\n",
    "                    if (max(p,i)<50 or min(p,i)>=50):\n",
    "                        freq = 0.015\n",
    "                    else:\n",
    "                        freq = 0.000\n",
    "                else:\n",
    "                    freq = rand_mut_freq\n",
    "\n",
    "                if np.random.random() < freq:\n",
    "                    p_init.append(1)\n",
    "                else:\n",
    "                    p_init.append(0)\n",
    "\n",
    "            P_init.append(p_init)\n",
    "\n",
    "        edges = np.array(edges)\n",
    "        features = csc_matrix(features)\n",
    "        P_init = csr_matrix(P_init)\n",
    "\n",
    "\n",
    "        SRW_obj = SRW.SRW_solver(edges, features, nnodes, P_init, rst_prob, group_labels, lam, w_init_sd=0.01, \n",
    "                                 w=None, feature_names=feature_names, sample_names=sample_names, \n",
    "                                 node_names=node_names, loss='WMW', norm_type='L1', learning_rate=0.5, \n",
    "                                 update_w_func='Adam', P_init_val=P_init, group_labels_val=group_labels, \n",
    "                                 ncpus=len(feature_names), maxit=100, early_stop=10, WMW_b=WMW_b, activation_func = activation_func)\n",
    "\n",
    "        SRW_obj.train_SRW_GD()\n",
    "    \n",
    "        accuracy_history.append(SRW_obj.accuracy)\n",
    "        accuracy_val_history.append(SRW_obj.accuracy_val)\n",
    "        n_iter -= 1\n",
    "    return accuracy_history, accuracy_val_history"
   ]
  },
  {
   "cell_type": "code",
   "execution_count": null,
   "metadata": {
    "scrolled": true
   },
   "outputs": [],
   "source": [
    "accuracy_history_sigmoid, accuracy_val_history_sigmoid = accuracy('sigmoid')"
   ]
  },
  {
   "cell_type": "code",
   "execution_count": null,
   "metadata": {
    "scrolled": true
   },
   "outputs": [],
   "source": [
    "degrees = [0]*nnodes\n",
    "edges = []\n",
    "features = [] #(11) cliq1, cliq2, hi_mut_source, hi_mut_target, rand1, rand2, rand3, rand4, rand5, self_loop, intercept\n",
    "for i in range(nnodes-1):\n",
    "    for j in range(i+1,nnodes):\n",
    "        if ((i<100 and j<100) and np.random.random()<cliq_edge_freq) or np.random.random()<edge_freq:\n",
    "            edges.append([i,j])\n",
    "            edges.append([j,i])\n",
    "            features.append([0,0,0,0,np.random.random(),np.random.random(),0,1])\n",
    "            features.append([0,0,0,0,np.random.random(),np.random.random(),0,1])\n",
    "            if (i<50 and j<50):\n",
    "                features[-2][0] = 1\n",
    "                features[-1][0] = 1\n",
    "            if (i>=50 and i<100 and j>=50 and j<100):\n",
    "                features[-2][1] = 1\n",
    "                features[-1][1] = 1\n",
    "            if i == nnodes-1:\n",
    "                features[-2][2] = 1\n",
    "                features[-1][3] = 1\n",
    "            if j == nnodes-1:\n",
    "                features[-2][3] = 1\n",
    "                features[-1][2] = 1\n",
    "            degrees[i] += 1\n",
    "            degrees[j] += 1\n",
    "\n",
    "for i in range(nnodes):\n",
    "    edges.append([i,i])\n",
    "    features.append([0,0,0,0,np.random.random(),np.random.random(),1,1])\n",
    "\n",
    "P_init = []\n",
    "for p in range(nsamples):\n",
    "    p_init = []\n",
    "    for i in range(nnodes):\n",
    "        freq=0\n",
    "        if p == i:\n",
    "            freq = 1\n",
    "        elif i == hi_node:\n",
    "            freq = hi_mut_freq\n",
    "        elif i<100:\n",
    "            if (max(p,i)<50 or min(p,i)>=50):\n",
    "                freq = 0.015\n",
    "            else:\n",
    "                freq = 0.000\n",
    "        else:\n",
    "            freq = rand_mut_freq\n",
    "\n",
    "        if np.random.random() < freq:\n",
    "            p_init.append(1)\n",
    "        else:\n",
    "            p_init.append(0)\n",
    "\n",
    "    P_init.append(p_init)\n",
    "\n",
    "edges = np.array(edges)\n",
    "features = csc_matrix(features)\n",
    "P_init = csr_matrix(P_init)\n",
    "\n",
    "\n",
    "SRW_obj = SRW.SRW_solver(edges, features, nnodes, P_init, rst_prob, group_labels, lam, w_init_sd=0.01, \n",
    "                         w=None, feature_names=feature_names, sample_names=sample_names, \n",
    "                         node_names=node_names, loss='WMW', norm_type='L1', learning_rate=0.5, \n",
    "                         update_w_func='Adam', P_init_val=P_init, group_labels_val=group_labels, \n",
    "                         ncpus=len(feature_names), maxit=100, early_stop=10, WMW_b=WMW_b, activation_func = 'sigmoid')\n",
    "\n",
    "SRW_obj.train_SRW_GD()"
   ]
  },
  {
   "cell_type": "code",
   "execution_count": null,
   "metadata": {},
   "outputs": [],
   "source": [
    "SRW_obj.w_map"
   ]
  },
  {
   "cell_type": "code",
   "execution_count": null,
   "metadata": {},
   "outputs": [],
   "source": [
    "import numpy as np\n",
    "from sklearn.manifold import TSNE\n",
    "from sklearn.decomposition import PCA\n",
    "import matplotlib.pyplot as plt\n",
    "%matplotlib inline"
   ]
  },
  {
   "cell_type": "code",
   "execution_count": null,
   "metadata": {
    "scrolled": true
   },
   "outputs": [],
   "source": [
    "SRW_obj.w = SRW_obj.w_list[0]\n",
    "SRW_obj.map_w()\n",
    "SRW_obj.w[-1] = 100\n",
    "SRW_obj.w[-2] = -200\n",
    "SRW_obj.Q = SRW.generate_Q(SRW_obj.edges, SRW_obj.nnodes, SRW_obj.features, SRW_obj.w)\n",
    "P = SRW.iterative_PPR(SRW_obj.Q.toarray(), SRW.renorm(SRW_obj.P_init).toarray(), SRW_obj.rst_prob)\n",
    "SRW_obj.C = SRW_obj.centroid(P, SRW_obj.ngroups, SRW_obj.group2indeces_list)\n",
    "SRW_obj.calc_cost_and_acc_val()\n",
    "SRW_obj.generate_Q_and_P_fin()"
   ]
  },
  {
   "cell_type": "code",
   "execution_count": null,
   "metadata": {
    "scrolled": true
   },
   "outputs": [],
   "source": [
    "P_df = SRW_obj.P_fin_df.copy()\n",
    "pca = PCA(n_components=2)\n",
    "pca.fit(P_df.T)\n",
    "# P_df_pca, pca_components, explained_variance_ratio = pyNBS.run_pca(P_df)"
   ]
  },
  {
   "cell_type": "code",
   "execution_count": null,
   "metadata": {},
   "outputs": [],
   "source": [
    "fig, ax = plt.subplots(figsize=(7, 7))\n",
    "for i in range(len(group_labels)):\n",
    "    if group_labels[i] == 'Subtype 1':\n",
    "        ax.plot(pca.components_[0,i], pca.components_[1,i], alpha=0.5, marker='o', color = 'r', linestyle='')\n",
    "    else:\n",
    "        ax.plot(pca.components_[0,i], pca.components_[1,i], alpha=0.5, marker='o', color = 'b', linestyle='')\n",
    "\n",
    "plt.xlabel('Component 1')\n",
    "plt.ylabel('Component 2')\n",
    "ax.legend(loc='upper right')\n",
    "\n",
    "plt.show()"
   ]
  },
  {
   "cell_type": "code",
   "execution_count": null,
   "metadata": {},
   "outputs": [],
   "source": [
    "SRW_obj.w = SRW_obj.w_list[-1]\n",
    "SRW_obj.map_w()\n",
    "SRW_obj.Q = SRW.generate_Q(SRW_obj.edges, SRW_obj.nnodes, SRW_obj.features, SRW_obj.w)\n",
    "P = SRW.iterative_PPR(SRW_obj.Q.toarray(), SRW.renorm(SRW_obj.P_init).toarray(), SRW_obj.rst_prob)\n",
    "SRW_obj.C = SRW_obj.centroid(P, SRW_obj.ngroups, SRW_obj.group2indeces_list)\n",
    "SRW_obj.calc_cost_and_acc_val()\n",
    "SRW_obj.generate_Q_and_P_fin()\n",
    "\n",
    "P_df = SRW_obj.P_fin_df.copy()\n",
    "pca = PCA(n_components=2)\n",
    "pca.fit(P_df.T)\n",
    "\n",
    "fig, ax = plt.subplots(figsize=(7, 7))\n",
    "for i in range(len(group_labels)):\n",
    "    if group_labels[i] == 'Subtype 1':\n",
    "        ax.plot(pca.components_[0,i], pca.components_[1,i], alpha=0.5, marker='o', color = 'r', linestyle='')\n",
    "    else:\n",
    "        ax.plot(pca.components_[0,i], pca.components_[1,i], alpha=0.5, marker='o', color = 'b', linestyle='')\n",
    "\n",
    "plt.xlabel('Component 1')\n",
    "plt.ylabel('Component 2')\n",
    "ax.legend(loc='upper right')\n",
    "\n",
    "plt.show()"
   ]
  },
  {
   "cell_type": "code",
   "execution_count": null,
   "metadata": {
    "scrolled": true
   },
   "outputs": [],
   "source": [
    "P_df"
   ]
  },
  {
   "cell_type": "code",
   "execution_count": null,
   "metadata": {},
   "outputs": [],
   "source": [
    "%matplotlib inline\n",
    "import matplotlib.pyplot as plt\n",
    "import seaborn as sns\n",
    "fig, ax = plt.subplots(figsize=(32,18))\n",
    "ax = sns.heatmap(P_df.clip(upper=0.025),cmap='Reds', square=False)\n",
    "# plt.savefig('data/sim1001000_P_df.pdf')"
   ]
  },
  {
   "cell_type": "code",
   "execution_count": null,
   "metadata": {},
   "outputs": [],
   "source": []
  },
  {
   "cell_type": "code",
   "execution_count": null,
   "metadata": {},
   "outputs": [],
   "source": []
  },
  {
   "cell_type": "code",
   "execution_count": null,
   "metadata": {},
   "outputs": [],
   "source": []
  },
  {
   "cell_type": "code",
   "execution_count": null,
   "metadata": {},
   "outputs": [],
   "source": []
  },
  {
   "cell_type": "code",
   "execution_count": null,
   "metadata": {},
   "outputs": [],
   "source": []
  },
  {
   "cell_type": "code",
   "execution_count": null,
   "metadata": {},
   "outputs": [],
   "source": []
  },
  {
   "cell_type": "code",
   "execution_count": null,
   "metadata": {},
   "outputs": [],
   "source": []
  },
  {
   "cell_type": "code",
   "execution_count": null,
   "metadata": {},
   "outputs": [],
   "source": []
  }
 ],
 "metadata": {
  "kernelspec": {
   "display_name": "Python 3",
   "language": "python",
   "name": "python3"
  },
  "language_info": {
   "codemirror_mode": {
    "name": "ipython",
    "version": 3
   },
   "file_extension": ".py",
   "mimetype": "text/x-python",
   "name": "python",
   "nbconvert_exporter": "python",
   "pygments_lexer": "ipython3",
   "version": "3.8.5"
  }
 },
 "nbformat": 4,
 "nbformat_minor": 4
}
